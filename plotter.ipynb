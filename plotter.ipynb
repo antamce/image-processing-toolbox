{
 "cells": [
  {
   "cell_type": "code",
   "execution_count": null,
   "metadata": {},
   "outputs": [],
   "source": [
    "def int_plot():\n",
    "    for n, pair in enumerate(exc_tiffs):\n",
    "    x = np.linspace(-50, 50, 500)\n",
    "    fig = plt.figure()\n",
    "    ax = fig.add_subplot(111)\n",
    "    \n",
    "    ax.plot(x, stats.norm.pdf(x, 0, std[0][n]), color=colours[0], label=f'Confocal: {np.round(std[0][n]*0.054, 2)} um')\n",
    "    ax.plot(x, stats.norm.pdf(x, 0, std[1][n]), color=colours[1], label=f'RLTV: {np.round(std[1][n]*0.054, 2)} um')\n",
    "    ax.plot(x, stats.norm.pdf(x, 0, std[2][n]), color=colours[2], label=f'AI: {np.round(std[2][n]*0.054, 2)} um')\n",
    "    ax.legend()\n",
    "    fig.savefig(f'{pair[0]}.png')\n",
    "    print(np.round(xz['fit'].tolist()[1]*1.5,2))\n",
    "    print(np.round(yz['fit'].tolist()[1]*1.5,2))\n",
    "    print(np.round(xy['fit'].tolist()[1]*0.054,2))"
   ]
  }
 ],
 "metadata": {
  "language_info": {
   "name": "python"
  }
 },
 "nbformat": 4,
 "nbformat_minor": 2
}
