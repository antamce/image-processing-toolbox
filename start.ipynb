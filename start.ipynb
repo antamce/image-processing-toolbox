{
 "cells": [
  {
   "cell_type": "code",
   "execution_count": null,
   "metadata": {},
   "outputs": [
    {
     "name": "stdout",
     "output_type": "stream",
     "text": [
      "('C:\\\\Users\\\\antim\\\\code\\\\image analysis toolbox\\\\test_tiff_stack_yz.tif', 'test_tiff_stack_yz.tif')\n"
     ]
    }
   ],
   "source": [
    "from pathlib import Path\n",
    "import cv2\n",
    "from libtiff import TIFF\n",
    "import numpy as np\n",
    "\n",
    "def load_tiff(dir_path, group, axis, pixel_size=1):\n",
    "    '''\n",
    "    Make sure filenames follow the naming convention\n",
    "\n",
    "    dir_path: directory path; use double slashes\n",
    "    group: common name for all images in the group\n",
    "    axis: xy, xz, yz \n",
    "    '''\n",
    "    \n",
    "    pathlist = Path(dir_path).glob(f'{group}*{axis}.tif')\n",
    "    for path in pathlist:\n",
    "        path_in_str = str(path) \n",
    "    \n",
    "    tif = TIFF.open('C:\\\\Users\\\\antim\\\\Desktop\\\\asctrocytes\\\\RCAN_res_cut.tif', mode='r')\n",
    "    for i in tif.iter_images():\n",
    "        img = np.array(i)\n",
    "        \n",
    "    return path_in_str, path_in_str.split('\\\\')[-1]\n",
    "print(load_tiff('C:\\\\Users\\\\antim\\\\code\\\\image analysis toolbox', 'test_tiff_stack', ''))\n",
    "\n",
    "\n",
    "'''\n",
    "                        0 : Autumn,\n",
    "                        1 : Bone,\n",
    "                        2 : Jet,\n",
    "                        3 : Winter,\n",
    "                        4 : Rainbow,\n",
    "                        5 : Ocean,\n",
    "                        6 : Summer,\n",
    "                        7 : Spring,\n",
    "                        8 : Cool,\n",
    "                        9 : Hsv,\n",
    "                        10 : Pink,\n",
    "                        11 : Hot,\n",
    "                        12  : Parula,\n",
    "                        13 : Magma,\n",
    "                        14 : Inferno,\n",
    "                        15 : Plasma,\n",
    "                        16 : Viridis,\n",
    "                        17 : Cividis,\n",
    "                        18 : Twilight,\n",
    "                        19 : Twilight_Shifted,\n",
    "                        20 : Turbo,\n",
    "                        21 : Deepgreen\n",
    "\n",
    "'''"
   ]
  },
  {
   "cell_type": "code",
   "execution_count": 1,
   "metadata": {},
   "outputs": [],
   "source": [
    "import reslice_tif\n",
    "reslice_tif.reslice_image('test_tiff_stack')"
   ]
  },
  {
   "cell_type": "code",
   "execution_count": 2,
   "metadata": {},
   "outputs": [],
   "source": [
    "import fft2\n",
    "fft2.fft2_calc('test_tif.tif', colourmap=21)"
   ]
  },
  {
   "cell_type": "code",
   "execution_count": 4,
   "metadata": {},
   "outputs": [
    {
     "data": {
      "text/plain": [
       "(array([[ 28.        ,  23.7337726 ,  29.17549096, ...,  70.80802614,\n",
       "          57.80163406,  41.35192423],\n",
       "        [202.        , 182.8336794 , 214.36246771, ..., 155.59754276,\n",
       "         152.95194808, 199.54430488],\n",
       "        [135.20300468, 189.52776946, 211.11270858, ..., 132.97273059,\n",
       "         146.14660156,  97.8350116 ],\n",
       "        ...,\n",
       "        [113.        , 111.14470787, 105.88525523, ...,  61.63627549,\n",
       "          82.0754092 , 102.81553868],\n",
       "        [ 36.        ,  46.4705827 ,  47.97283611, ...,  19.21142687,\n",
       "          17.36944324,  23.58654913],\n",
       "        [  7.        ,   4.83728684,   1.63448356, ...,   3.74341088,\n",
       "           5.0926473 ,   6.84357814]]),\n",
       " 104.43374108763093,\n",
       " 61.3973822140216)"
      ]
     },
     "execution_count": 4,
     "metadata": {},
     "output_type": "execute_result"
    }
   ],
   "source": [
    "import fwhm\n",
    "fwhm.calculate_fwhm('test_tiff_stack', save=True)\n"
   ]
  },
  {
   "cell_type": "code",
   "execution_count": null,
   "metadata": {},
   "outputs": [
    {
     "name": "stdout",
     "output_type": "stream",
     "text": [
      "166.2175503288818\n"
     ]
    },
    {
     "data": {
      "text/plain": [
       "(0.33941662236250636, 8.77711692657416)"
      ]
     },
     "execution_count": 8,
     "metadata": {},
     "output_type": "execute_result"
    }
   ],
   "source": []
  },
  {
   "cell_type": "code",
   "execution_count": 9,
   "metadata": {},
   "outputs": [
    {
     "name": "stdout",
     "output_type": "stream",
     "text": [
      "122.06127167630058\n"
     ]
    },
    {
     "data": {
      "text/plain": [
       "(0.4901721340706208, 8.426981212627856)"
      ]
     },
     "execution_count": 9,
     "metadata": {},
     "output_type": "execute_result"
    }
   ],
   "source": [
    "import comp_metrics\n",
    "comp_metrics.calculate_comp_metrics('C:\\\\Users\\\\antim\\\\Desktop\\\\asctrocytes\\\\RU-Decon_cut.tif', 'C:\\\\Users\\\\antim\\\\Desktop\\\\asctrocytes\\\\sted_cut.tif', colourmap_ssim=3, colourmap_rse=15, save_path='C:\\\\Users\\\\antim\\\\Desktop\\\\asctrocytes')\n",
    "#ssim, RMSE"
   ]
  },
  {
   "cell_type": "code",
   "execution_count": 1,
   "metadata": {},
   "outputs": [
    {
     "name": "stdout",
     "output_type": "stream",
     "text": [
      "0.7840000000000001 0.499\n"
     ]
    }
   ],
   "source": [
    "import  decorr\n",
    "from libtiff import TIFF\n",
    "import numpy as np\n",
    "\n",
    "tif = TIFF.open('test_tif.tif', mode='r')\n",
    "for i in tif.iter_images():\n",
    "    img = np.array(i)\n",
    "Nr = 50 #fourier space sampling\n",
    "Ng = 10 #number of inner refinement iterations, >= 5\n",
    "apod_image = decorr.apodize(img)\n",
    "kcMax, SNR = decorr.getDcorr(img,r=np.linspace(0,1,Nr),Ng=Ng)\n",
    "resolution = 2*0.04/kcMax\n",
    "print(resolution, SNR)"
   ]
  },
  {
   "cell_type": "code",
   "execution_count": null,
   "metadata": {},
   "outputs": [],
   "source": []
  }
 ],
 "metadata": {
  "kernelspec": {
   "display_name": "Python 3",
   "language": "python",
   "name": "python3"
  },
  "language_info": {
   "codemirror_mode": {
    "name": "ipython",
    "version": 3
   },
   "file_extension": ".py",
   "mimetype": "text/x-python",
   "name": "python",
   "nbconvert_exporter": "python",
   "pygments_lexer": "ipython3",
   "version": "3.10.14"
  }
 },
 "nbformat": 4,
 "nbformat_minor": 2
}
