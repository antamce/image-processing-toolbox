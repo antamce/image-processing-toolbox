{
 "cells": [
  {
   "cell_type": "code",
   "execution_count": null,
   "metadata": {},
   "outputs": [
    {
     "data": {
      "text/plain": [
       "(0.4355555555555556, 0.696, 86.09652864603497)"
      ]
     },
     "execution_count": 1,
     "metadata": {},
     "output_type": "execute_result"
    }
   ],
   "source": [
    "import os\n",
    "from pathlib import Path\n",
    "from process_stacks import calculate_stack_metrics, calculate_fwhm_stack\n",
    "from process_singular import calculate_metrics\n",
    "from comp_metrics import calculate_comp_metrics\n",
    "\n",
    "\n",
    "def analyze_tiff_stack(dir_path, group, pixel_size, z_step, output_path=r'output_folder'):\n",
    "    '''\n",
    "    Make sure filenames follow the naming convention\n",
    "    dir_path: directory path; use double slashes\n",
    "    group: common name for all images in the group\n",
    "    '''\n",
    "    if not os.path.exists(output_path):\n",
    "        os.makedirs(output_path)\n",
    "    \n",
    "    pathlist = Path(dir_path).glob(f'*{group}*.tif')\n",
    "\n",
    "    for path in pathlist:\n",
    "        path_in_str = str(path)\n",
    "        #saves metrics and fwhm into .xlsx files\n",
    "        #functions return mean values if needed\n",
    "        calculate_stack_metrics(path_in_str, pixel_size, z_step, output_path)\n",
    "        calculate_fwhm_stack(path_in_str, pixel_size, z_step, output_path)\n",
    "    \n",
    "\n",
    "def analyze_tiff(dir_path, group, pixel_size, output_path=r'output_folder',  colourmap=21):\n",
    "    if not os.path.exists(output_path):\n",
    "            os.makedirs(output_path)\n",
    "    pathlist = Path(dir_path).glob(f'*{group}*.tif')\n",
    "    for path in pathlist:\n",
    "        path_in_str = str(path)\n",
    "        #TODO put into an array\n",
    "        resolution, SNR, fwhm = calculate_metrics(path_in_str, pixel_size, output_path, colourmap)\n",
    "    return resolution, SNR, fwhm\n",
    "\n",
    "def compare_tiffs(image_1_path, image_2_path, output_path=r'output_folder', colourmap_ssim=2, colourmap_rse=2):\n",
    "    if not os.path.exists(output_path):\n",
    "        os.makedirs(output_path)\n",
    "    ssim, RMSE = calculate_comp_metrics(image_1_path, image_2_path, output_path,  colourmap_ssim, colourmap_rse)\n",
    "    return ssim, RMSE\n",
    "     \n",
    "\n",
    "#analyze_tiff_stack('', 'stack', 0.04, 0.2)\n",
    "#analyze_tiff('', 'test', 0.04)"
   ]
  },
  {
   "cell_type": "code",
   "execution_count": null,
   "metadata": {},
   "outputs": [],
   "source": [
    "#colourmap reference\n",
    "\n",
    "'''\n",
    "                        0 : Autumn,\n",
    "                        1 : Bone,\n",
    "                        2 : Jet,\n",
    "                        3 : Winter,\n",
    "                        4 : Rainbow,\n",
    "                        5 : Ocean,\n",
    "                        6 : Summer,\n",
    "                        7 : Spring,\n",
    "                        8 : Cool,\n",
    "                        9 : Hsv,\n",
    "                        10 : Pink,\n",
    "                        11 : Hot,\n",
    "                        12  : Parula,\n",
    "                        13 : Magma,\n",
    "                        14 : Inferno,\n",
    "                        15 : Plasma,\n",
    "                        16 : Viridis,\n",
    "                        17 : Cividis,\n",
    "                        18 : Twilight,\n",
    "                        19 : Twilight_Shifted,\n",
    "                        20 : Turbo,\n",
    "                        21 : Deepgreen\n",
    "\n",
    "'''\n"
   ]
  }
 ],
 "metadata": {
  "kernelspec": {
   "display_name": "Python 3",
   "language": "python",
   "name": "python3"
  },
  "language_info": {
   "codemirror_mode": {
    "name": "ipython",
    "version": 3
   },
   "file_extension": ".py",
   "mimetype": "text/x-python",
   "name": "python",
   "nbconvert_exporter": "python",
   "pygments_lexer": "ipython3",
   "version": "3.10.14"
  }
 },
 "nbformat": 4,
 "nbformat_minor": 2
}
