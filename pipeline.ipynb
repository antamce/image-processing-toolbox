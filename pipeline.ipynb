{
 "cells": [
  {
   "cell_type": "code",
   "execution_count": 7,
   "metadata": {},
   "outputs": [
    {
     "name": "stdout",
     "output_type": "stream",
     "text": [
      "('C:\\\\Users\\\\antim\\\\code\\\\image analysis toolbox\\\\test_tiff_stack_yz.tif', '_tiff_stack_yz')\n"
     ]
    }
   ],
   "source": [
    "from pathlib import Path\n",
    "\n",
    "def pipeline(dir_path, group, axis, pixel_size=1):\n",
    "    '''\n",
    "    Make sure filenames follow the naming convention\n",
    "\n",
    "    dir_path: directory path; use double slashes\n",
    "    group: common name for all images in the group\n",
    "    axis: xy, xz, yz \n",
    "    '''\n",
    "    \n",
    "    pathlist = Path(dir_path).glob(f'{group}*{axis}.tif')\n",
    "    for path in pathlist:\n",
    "        path_in_str = str(path) \n",
    "    return path_in_str, path_in_str.strip(dir_path).strip('.tif')\n",
    "print(pipeline('C:\\\\Users\\\\antim\\\\code\\\\image analysis toolbox', 'test_tiff_stack', ''))"
   ]
  },
  {
   "cell_type": "code",
   "execution_count": 1,
   "metadata": {},
   "outputs": [],
   "source": [
    "import reslice_tif\n",
    "reslice_tif.reslice_image('test_tiff_stack')"
   ]
  },
  {
   "cell_type": "code",
   "execution_count": 2,
   "metadata": {},
   "outputs": [],
   "source": [
    "import fft2\n",
    "fft2.fft2_calc('test_tif')"
   ]
  },
  {
   "cell_type": "markdown",
   "metadata": {},
   "source": []
  }
 ],
 "metadata": {
  "kernelspec": {
   "display_name": "Python 3",
   "language": "python",
   "name": "python3"
  },
  "language_info": {
   "codemirror_mode": {
    "name": "ipython",
    "version": 3
   },
   "file_extension": ".py",
   "mimetype": "text/x-python",
   "name": "python",
   "nbconvert_exporter": "python",
   "pygments_lexer": "ipython3",
   "version": "3.10.14"
  }
 },
 "nbformat": 4,
 "nbformat_minor": 2
}
